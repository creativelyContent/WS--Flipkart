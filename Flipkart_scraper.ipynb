{
 "cells": [
  {
   "cell_type": "code",
   "execution_count": 1,
   "id": "27d55593",
   "metadata": {},
   "outputs": [],
   "source": [
    "from selenium import webdriver\n",
    "from bs4 import BeautifulSoup\n",
    "import pandas as pd\n",
    "\n",
    "page = 1\n",
    "\n",
    "while page != 3:\n",
    "    url = f\"https://www.flipkart.com/beauty-and-grooming/pr?sid=g9b&otracker=categorytree&p%5B%5D=facets.fulfilled_by%255B%255D%3DFlipkart%2BAssured&fm=neo%2Fmerchandising&iid=M_efadaae3-2c1b-41c8-b32c-c16d53170b4b_1_372UD5BXDFYS_MC.NJKL2WGZ9KLB&otracker=hp_rich_navigation_1_1.navigationCard.RICH_NAVIGATION_Beauty%252C%2BToys%2B%2526%2BMore%7EBeauty%2B%2526%2BPersonal%2BCare%7EView%2BAll_NJKL2WGZ9KLB&otracker1=hp_rich_navigation_PINNED_neo%2Fmerchandising_NA_NAV_EXPANDABLE_navigationCard_cc_1_L2_view-all&cid=NJKL2WGZ9KLB&sort=recency_desc&page={page}\"\n",
    "\n",
    "    p_name=[]\n",
    "    p_price=[]\n",
    "\n",
    "\n",
    "    driver = webdriver.Chrome('C:\\webdriver\\chromedriver.exe')\n",
    "    driver.get(url)\n",
    "\n",
    "    content = driver.page_source\n",
    "    s = BeautifulSoup(content)\n",
    "\n",
    "    name = s.find_all(attrs={\"class\":\"s1Q9rs\"})\n",
    "    for names in name:\n",
    "           p_name.append(names.text)\n",
    "\n",
    "    price= [s.find_all(attrs={'class':'_30jeq3'})]\n",
    "    for p in price:\n",
    "        for price in p:\n",
    "            p_price.append(price.text)\n",
    "\n",
    "\n",
    "    d = {\"Product Name\":p_name, \"Prices\":p_price}\n",
    "    df = pd.DataFrame(d)\n",
    "    df.to_csv('products_complete1.csv', mode='a', index=\"false\", encoding = 'utf-8')\n",
    "\n",
    "    page += 1\n",
    "    driver.close()"
   ]
  },
  {
   "cell_type": "code",
   "execution_count": null,
   "id": "d2de98da",
   "metadata": {},
   "outputs": [],
   "source": []
  }
 ],
 "metadata": {
  "kernelspec": {
   "display_name": "Python 3 (ipykernel)",
   "language": "python",
   "name": "python3"
  },
  "language_info": {
   "codemirror_mode": {
    "name": "ipython",
    "version": 3
   },
   "file_extension": ".py",
   "mimetype": "text/x-python",
   "name": "python",
   "nbconvert_exporter": "python",
   "pygments_lexer": "ipython3",
   "version": "3.8.11"
  }
 },
 "nbformat": 4,
 "nbformat_minor": 5
}
